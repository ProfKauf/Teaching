{
 "cells": [
  {
   "cell_type": "code",
   "execution_count": null,
   "id": "8a625b64",
   "metadata": {},
   "outputs": [],
   "source": [
    "import httpimport\n",
    "url='https://raw.githubusercontent.com/ProfKauf/Modules/main/'\n",
    "with httpimport.remote_repo(url):\n",
    "    import profK_libraries, profK_statistics\n",
    "from profK_libraries import *\n",
    "from profK_statistics import *"
   ]
  },
  {
   "cell_type": "code",
   "execution_count": null,
   "id": "90029e66",
   "metadata": {},
   "outputs": [],
   "source": []
  }
 ],
 "metadata": {
  "kernelspec": {
   "display_name": "Python [conda env:base] *",
   "language": "python",
   "name": "conda-base-py"
  },
  "language_info": {
   "codemirror_mode": {
    "name": "ipython",
    "version": 3
   },
   "file_extension": ".py",
   "mimetype": "text/x-python",
   "name": "python",
   "nbconvert_exporter": "python",
   "pygments_lexer": "ipython3",
   "version": "3.13.5"
  }
 },
 "nbformat": 4,
 "nbformat_minor": 5
}
